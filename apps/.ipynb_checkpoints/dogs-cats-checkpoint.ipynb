{
 "cells": [
  {
   "cell_type": "markdown",
   "metadata": {},
   "source": [
    "The train folder contains 25,000 images of dogs and cats. Each image in this folder has the label as part of the filename. The test folder contains 12,500 images, named according to a numeric id. For each image in the test set, you should predict a probability that the image is a dog (1 = dog, 0 = cat)."
   ]
  },
  {
   "cell_type": "code",
   "execution_count": 1,
   "metadata": {
    "collapsed": false
   },
   "outputs": [
    {
     "name": "stderr",
     "output_type": "stream",
     "text": [
      "Using TensorFlow backend.\n"
     ]
    }
   ],
   "source": [
    "import os  # 处理字符串路径\n",
    "import glob  # 查找文件\n",
    "from keras.models import Sequential  # 导入Sequential模型\n",
    "from keras.layers.core import Flatten, Dense, Dropout\n",
    "from keras.layers.convolutional import Convolution2D, MaxPooling2D, ZeroPadding2D\n",
    "from keras.optimizers import SGD\n",
    "import numpy as np\n",
    "from pandas import Series, DataFrame\n",
    "from keras.preprocessing.image import ImageDataGenerator\n",
    "from keras.models import Sequential\n",
    "from keras.layers.core import Dense, Dropout, Activation, Flatten\n",
    "from keras.layers.advanced_activations import PReLU\n",
    "from keras.layers.convolutional import Convolution2D, MaxPooling2D\n",
    "from keras.optimizers import SGD, Adadelta, Adagrad\n",
    "from keras.utils import np_utils, generic_utils\n",
    "from six.moves import range"
   ]
  },
  {
   "cell_type": "code",
   "execution_count": 2,
   "metadata": {
    "collapsed": false
   },
   "outputs": [
    {
     "ename": "ImportError",
     "evalue": "No module named Image",
     "output_type": "error",
     "traceback": [
      "\u001b[0;31m---------------------------------------------------------------------------\u001b[0m",
      "\u001b[0;31mImportError\u001b[0m                               Traceback (most recent call last)",
      "\u001b[0;32m<ipython-input-2-8bd82682ec56>\u001b[0m in \u001b[0;36m<module>\u001b[0;34m()\u001b[0m\n\u001b[1;32m      1\u001b[0m \u001b[0;31m#加载数据\u001b[0m\u001b[0;34m\u001b[0m\u001b[0;34m\u001b[0m\u001b[0m\n\u001b[1;32m      2\u001b[0m \u001b[0;32mimport\u001b[0m \u001b[0mos\u001b[0m\u001b[0;34m\u001b[0m\u001b[0m\n\u001b[0;32m----> 3\u001b[0;31m \u001b[0;32mimport\u001b[0m \u001b[0mImage\u001b[0m\u001b[0;34m\u001b[0m\u001b[0m\n\u001b[0m\u001b[1;32m      4\u001b[0m \u001b[0;32mimport\u001b[0m \u001b[0mnumpy\u001b[0m \u001b[0;32mas\u001b[0m \u001b[0mnp\u001b[0m\u001b[0;34m\u001b[0m\u001b[0m\n\u001b[1;32m      5\u001b[0m \u001b[0;31m#读取文件夹train下的25000张图片，图片为彩色图，所以为3通道，\u001b[0m\u001b[0;34m\u001b[0m\u001b[0;34m\u001b[0m\u001b[0m\n",
      "\u001b[0;31mImportError\u001b[0m: No module named Image"
     ]
    }
   ],
   "source": [
    "#加载数据\n",
    "import os\n",
    "from PIL import Image\n",
    "import numpy as np\n",
    "#读取文件夹train下的25000张图片，图片为彩色图，所以为3通道，\n",
    "#如果是将彩色图作为输入,图像大小224*224\n",
    "def load_data():\n",
    "    sed = 1000\n",
    "    data = np.empty((20000,224,224,3),dtype=\"float32\")\n",
    "    label = np.empty((20000,))\n",
    "    imgs = os.listdir(\"/Users/chris/data/cat_dog/train/\")\n",
    "    num = len(imgs)\n",
    "    times = 0\n",
    "    time = 0\n",
    "    for i in range(num):\n",
    "        if imgs[i].split('.')[0] == 'cat':\n",
    "            if times ==1000:\n",
    "                continue\n",
    "            img = Image.open(\"/Users/chris/data/cat_dog/train/\" + imgs[i])\n",
    "\n",
    "            arr = np.asarray(img, dtype=\"float32\")\n",
    "            arr.resize((224,224,3))\n",
    "            data[i, :, :, :] = arr\n",
    "            label[i] = 0\n",
    "            times +=1\n",
    "        else:\n",
    "            img = Image.open(\"/Users/chris/data/cat_dog/train/\" + imgs[i])\n",
    "            arr = np.asarray(img, dtype=\"float32\")\n",
    "            arr.resize((224, 224, 3))\n",
    "            data[1000 + time, :, :, :] = arr\n",
    "            label[1000 + time] = 1\n",
    "            time +=1\n",
    "            if time == 1000:\n",
    "                break\n",
    "\n",
    "    return data,label\n",
    "\n",
    "data,label = load_data()\n",
    "print(data.shape)\n",
    "train_data = data[:1800]\n",
    "train_labels = label[:1800]\n",
    "validation_data = data[1800:]\n",
    "validation_labels = label[1800:]"
   ]
  },
  {
   "cell_type": "code",
   "execution_count": null,
   "metadata": {
    "collapsed": true
   },
   "outputs": [],
   "source": [
    "model = Sequential()\n",
    "#第一个卷积层，4个卷积核，每个卷积核大小5*5。\n",
    "#激活函数用tanh\n",
    "#你还可以在model.add(Activation('tanh'))后加上dropout的技巧: model.add(Dropout(0.5))\n",
    "model.add(Convolution2D(4, 5, 5,input_shape=(224, 224,3)))\n",
    "model.add(Activation('relu'))\n",
    "model.add(MaxPooling2D(pool_size=(2, 2)))\n",
    "#第二个卷积层，8个卷积核，每个卷积核大小3*3。\n",
    "#激活函数用tanh\n",
    "#采用maxpooling，poolsize为(2,2)\n",
    "model.add(Convolution2D(8, 3, 3))\n",
    "model.add(Activation('relu'))\n",
    "model.add(MaxPooling2D(pool_size=(2, 2)))\n",
    "#第三个卷积层，16个卷积核，每个卷积核大小3*3\n",
    "#激活函数用tanh\n",
    "#采用maxpooling，poolsize为(2,2)\n",
    "model.add(Convolution2D(16, 3, 3))\n",
    "model.add(Activation('relu'))\n",
    "model.add(MaxPooling2D(pool_size=(2, 2)))\n",
    "\n",
    "#全连接层，先将前一层输出的二维特征图flatten为一维的。\n",
    "\n",
    "model.add(Flatten())\n",
    "model.add(Dense(128))\n",
    "model.add(Activation('relu'))\n",
    "model.add(Dropout(0.5))\n",
    "#sigmoid分类，输出是2类别\n",
    "model.add(Dense(1))\n",
    "model.add(Activation('sigmoid'))\n",
    "\n",
    "model.compile(loss='binary_crossentropy',\n",
    "              optimizer='rmsprop',\n",
    "              metrics=['accuracy'])\n",
    "model.fit(train_data, train_labels,\n",
    "         nb_epoch=10, batch_size=100,\n",
    "         validation_data=(validation_data, validation_labels))"
   ]
  }
 ],
 "metadata": {
  "kernelspec": {
   "display_name": "Python 2",
   "language": "python",
   "name": "python2"
  },
  "language_info": {
   "codemirror_mode": {
    "name": "ipython",
    "version": 2
   },
   "file_extension": ".py",
   "mimetype": "text/x-python",
   "name": "python",
   "nbconvert_exporter": "python",
   "pygments_lexer": "ipython2",
   "version": "2.7.10"
  }
 },
 "nbformat": 4,
 "nbformat_minor": 2
}
