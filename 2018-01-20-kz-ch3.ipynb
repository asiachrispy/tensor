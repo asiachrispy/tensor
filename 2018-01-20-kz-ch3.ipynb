{
 "cells": [
  {
   "cell_type": "markdown",
   "metadata": {},
   "source": [
    "# sympy \n",
    "包可以直接通过代码来描述公式，可以直接求导\n",
    "也可以通过 sympy 包来自动求导，不需要自己去推演。"
   ]
  },
  {
   "cell_type": "code",
   "execution_count": 3,
   "metadata": {},
   "outputs": [
    {
     "name": "stdout",
     "output_type": "stream",
     "text": [
      "Requirement already satisfied: sympy in /Library/Frameworks/Python.framework/Versions/3.5/lib/python3.5/site-packages\r\n",
      "Requirement already satisfied: mpmath>=0.19 in /Library/Frameworks/Python.framework/Versions/3.5/lib/python3.5/site-packages (from sympy)\r\n"
     ]
    }
   ],
   "source": [
    "!pip install sympy"
   ]
  },
  {
   "cell_type": "code",
   "execution_count": 9,
   "metadata": {},
   "outputs": [],
   "source": [
    "import sympy\n",
    "sympy.init_printing(use_unicode=True)\n",
    "x = sympy.symbols('x')\n",
    "w,b = sympy.symbols('w b')"
   ]
  },
  {
   "cell_type": "code",
   "execution_count": 14,
   "metadata": {},
   "outputs": [
    {
     "data": {
      "image/png": "[encoded data removed]",
      "text/latex": [
       "$$w \\cos{\\left (x \\right )}$$"
      ],
      "text/plain": [
       "w⋅cos(x)"
      ]
     },
     "execution_count": 14,
     "metadata": {},
     "output_type": "execute_result"
    }
   ],
   "source": [
    "sympy.diff(w * sympy.sin(x) + b,x)"
   ]
  },
  {
   "cell_type": "code",
   "execution_count": 12,
   "metadata": {},
   "outputs": [
    {
     "data": {
      "image/png": "[encoded data removed]",
      "text/latex": [
       "$$x^{2}$$"
      ],
      "text/plain": [
       " 2\n",
       "x "
      ]
     },
     "execution_count": 12,
     "metadata": {},
     "output_type": "execute_result"
    }
   ],
   "source": [
    "x**2"
   ]
  },
  {
   "cell_type": "markdown",
   "metadata": {},
   "source": [
    "# tensor"
   ]
  },
  {
   "cell_type": "code",
   "execution_count": 18,
   "metadata": {},
   "outputs": [],
   "source": [
    "%matplotlib inline\n",
    "from matplotlib import pyplot as plt"
   ]
  },
  {
   "cell_type": "code",
   "execution_count": 19,
   "metadata": {
    "collapsed": true
   },
   "outputs": [],
   "source": [
    "import tensorflow as tf\n",
    "import numpy as np"
   ]
  },
  {
   "cell_type": "markdown",
   "metadata": {},
   "source": [
    "# Constant"
   ]
  },
  {
   "cell_type": "code",
   "execution_count": 21,
   "metadata": {},
   "outputs": [
    {
     "name": "stdout",
     "output_type": "stream",
     "text": [
      "Tensor(\"Const:0\", shape=(3,), dtype=int32)\n"
     ]
    }
   ],
   "source": [
    "c = tf.constant([1,2,3])\n",
    "print(c)"
   ]
  },
  {
   "cell_type": "code",
   "execution_count": 22,
   "metadata": {},
   "outputs": [
    {
     "data": {
      "text/plain": [
       "tensorflow.python.framework.ops.Tensor"
      ]
     },
     "execution_count": 22,
     "metadata": {},
     "output_type": "execute_result"
    }
   ],
   "source": [
    "type(c)"
   ]
  },
  {
   "cell_type": "code",
   "execution_count": 25,
   "metadata": {},
   "outputs": [
    {
     "data": {
      "text/plain": [
       "[name: \"Const\"\n",
       "op: \"Const\"\n",
       "attr {\n",
       "  key: \"dtype\"\n",
       "  value {\n",
       "    type: DT_INT32\n",
       "  }\n",
       "}\n",
       "attr {\n",
       "  key: \"value\"\n",
       "  value {\n",
       "    tensor {\n",
       "      dtype: DT_INT32\n",
       "      tensor_shape {\n",
       "        dim {\n",
       "          size: 3\n",
       "        }\n",
       "      }\n",
       "      tensor_content: \"\\001\\000\\000\\000\\002\\000\\000\\000\\003\\000\\000\\000\"\n",
       "    }\n",
       "  }\n",
       "}\n",
       "]"
      ]
     },
     "execution_count": 25,
     "metadata": {},
     "output_type": "execute_result"
    }
   ],
   "source": [
    "g = tf.get_default_graph()\n",
    "g.as_graph_def().node"
   ]
  },
  {
   "cell_type": "code",
   "execution_count": 26,
   "metadata": {},
   "outputs": [
    {
     "data": {
      "text/plain": [
       "array([1, 2, 3], dtype=int32)"
      ]
     },
     "execution_count": 26,
     "metadata": {},
     "output_type": "execute_result"
    }
   ],
   "source": [
    "sess = tf.Session()\n",
    "sess.run(c)"
   ]
  },
  {
   "cell_type": "code",
   "execution_count": 27,
   "metadata": {},
   "outputs": [
    {
     "name": "stdout",
     "output_type": "stream",
     "text": [
      "<class 'numpy.ndarray'>\n",
      "[1 2 3]\n"
     ]
    }
   ],
   "source": [
    "with tf.Session() as sess:\n",
    "    r = sess.run(c)\n",
    "    print(type(r))\n",
    "    print(r)"
   ]
  },
  {
   "cell_type": "code",
   "execution_count": 29,
   "metadata": {},
   "outputs": [
    {
     "name": "stdout",
     "output_type": "stream",
     "text": [
      "Tensor(\"add_1:0\", shape=(3,), dtype=int32)\n"
     ]
    }
   ],
   "source": [
    "c2 = c + c\n",
    "print(c2)"
   ]
  },
  {
   "cell_type": "code",
   "execution_count": 30,
   "metadata": {},
   "outputs": [
    {
     "data": {
      "text/plain": [
       "[name: \"Const\"\n",
       "op: \"Const\"\n",
       "attr {\n",
       "  key: \"dtype\"\n",
       "  value {\n",
       "    type: DT_INT32\n",
       "  }\n",
       "}\n",
       "attr {\n",
       "  key: \"value\"\n",
       "  value {\n",
       "    tensor {\n",
       "      dtype: DT_INT32\n",
       "      tensor_shape {\n",
       "        dim {\n",
       "          size: 3\n",
       "        }\n",
       "      }\n",
       "      tensor_content: \"\\001\\000\\000\\000\\002\\000\\000\\000\\003\\000\\000\\000\"\n",
       "    }\n",
       "  }\n",
       "}\n",
       ", name: \"add\"\n",
       "op: \"Add\"\n",
       "input: \"Const\"\n",
       "input: \"Const\"\n",
       "attr {\n",
       "  key: \"T\"\n",
       "  value {\n",
       "    type: DT_INT32\n",
       "  }\n",
       "}\n",
       ", name: \"add_1\"\n",
       "op: \"Add\"\n",
       "input: \"Const\"\n",
       "input: \"Const\"\n",
       "attr {\n",
       "  key: \"T\"\n",
       "  value {\n",
       "    type: DT_INT32\n",
       "  }\n",
       "}\n",
       "]"
      ]
     },
     "execution_count": 30,
     "metadata": {},
     "output_type": "execute_result"
    }
   ],
   "source": [
    "g = tf.get_default_graph()\n",
    "g.as_graph_def().node"
   ]
  },
  {
   "cell_type": "code",
   "execution_count": 31,
   "metadata": {},
   "outputs": [
    {
     "name": "stdout",
     "output_type": "stream",
     "text": [
      "<class 'numpy.ndarray'>\n",
      "[2 4 6]\n"
     ]
    }
   ],
   "source": [
    "with tf.Session() as sess:\n",
    "    r = sess.run(c2)\n",
    "    print(type(r))\n",
    "    print(r)"
   ]
  },
  {
   "cell_type": "markdown",
   "metadata": {},
   "source": [
    "# 随机数"
   ]
  },
  {
   "cell_type": "code",
   "execution_count": 37,
   "metadata": {},
   "outputs": [
    {
     "data": {
      "text/plain": [
       "<tf.Tensor 'random_uniform_2:0' shape=(10,) dtype=float32>"
      ]
     },
     "execution_count": 37,
     "metadata": {},
     "output_type": "execute_result"
    }
   ],
   "source": [
    "sess = tf.Session()\n",
    "r = tf.random_uniform([10],-1,1.0) # 产生 10 个 [-1,1] 的随机数\n",
    "r"
   ]
  },
  {
   "cell_type": "code",
   "execution_count": 38,
   "metadata": {},
   "outputs": [
    {
     "data": {
      "text/plain": [
       "array([-0.00604677, -0.57598567,  0.58657289,  0.43641615, -0.2092042 ,\n",
       "       -0.90773439,  0.79386401, -0.31341887,  0.9434824 ,  0.77836251], dtype=float32)"
      ]
     },
     "execution_count": 38,
     "metadata": {},
     "output_type": "execute_result"
    }
   ],
   "source": [
    "sess.run(r)"
   ]
  },
  {
   "cell_type": "code",
   "execution_count": 39,
   "metadata": {
    "collapsed": true
   },
   "outputs": [],
   "source": [
    "# Variable\n"
   ]
  },
  {
   "cell_type": "code",
   "execution_count": 40,
   "metadata": {
    "collapsed": true
   },
   "outputs": [],
   "source": [
    "w = tf.Variable(tf.random_uniform([1],-1,1.0),name='w')\n",
    "b = tf.Variable(tf.zeros([1]),name='b')"
   ]
  },
  {
   "cell_type": "code",
   "execution_count": 42,
   "metadata": {},
   "outputs": [
    {
     "ename": "FailedPreconditionError",
     "evalue": "Attempting to use uninitialized value w\n\t [[Node: _send_w_0 = _Send[T=DT_FLOAT, client_terminated=true, recv_device=\"/job:localhost/replica:0/task:0/cpu:0\", send_device=\"/job:localhost/replica:0/task:0/cpu:0\", send_device_incarnation=3307529096265022738, tensor_name=\"w:0\", _device=\"/job:localhost/replica:0/task:0/cpu:0\"](w)]]",
     "output_type": "error",
     "traceback": [
      "\u001b[0;31m---------------------------------------------------------------------------\u001b[0m",
      "\u001b[0;31mFailedPreconditionError\u001b[0m                   Traceback (most recent call last)",
      "\u001b[0;32m/Library/Frameworks/Python.framework/Versions/3.5/lib/python3.5/site-packages/tensorflow/python/client/session.py\u001b[0m in \u001b[0;36m_do_call\u001b[0;34m(self, fn, *args)\u001b[0m\n\u001b[1;32m   1020\u001b[0m     \u001b[0;32mtry\u001b[0m\u001b[0;34m:\u001b[0m\u001b[0;34m\u001b[0m\u001b[0m\n\u001b[0;32m-> 1021\u001b[0;31m       \u001b[0;32mreturn\u001b[0m \u001b[0mfn\u001b[0m\u001b[0;34m(\u001b[0m\u001b[0;34m*\u001b[0m\u001b[0margs\u001b[0m\u001b[0;34m)\u001b[0m\u001b[0;34m\u001b[0m\u001b[0m\n\u001b[0m\u001b[1;32m   1022\u001b[0m     \u001b[0;32mexcept\u001b[0m \u001b[0merrors\u001b[0m\u001b[0;34m.\u001b[0m\u001b[0mOpError\u001b[0m \u001b[0;32mas\u001b[0m \u001b[0me\u001b[0m\u001b[0;34m:\u001b[0m\u001b[0;34m\u001b[0m\u001b[0m\n",
      "\u001b[0;32m/Library/Frameworks/Python.framework/Versions/3.5/lib/python3.5/site-packages/tensorflow/python/client/session.py\u001b[0m in \u001b[0;36m_run_fn\u001b[0;34m(session, feed_dict, fetch_list, target_list, options, run_metadata)\u001b[0m\n\u001b[1;32m   1002\u001b[0m                                  \u001b[0mfeed_dict\u001b[0m\u001b[0;34m,\u001b[0m \u001b[0mfetch_list\u001b[0m\u001b[0;34m,\u001b[0m \u001b[0mtarget_list\u001b[0m\u001b[0;34m,\u001b[0m\u001b[0;34m\u001b[0m\u001b[0m\n\u001b[0;32m-> 1003\u001b[0;31m                                  status, run_metadata)\n\u001b[0m\u001b[1;32m   1004\u001b[0m \u001b[0;34m\u001b[0m\u001b[0m\n",
      "\u001b[0;32m/Library/Frameworks/Python.framework/Versions/3.5/lib/python3.5/contextlib.py\u001b[0m in \u001b[0;36m__exit__\u001b[0;34m(self, type, value, traceback)\u001b[0m\n\u001b[1;32m     65\u001b[0m             \u001b[0;32mtry\u001b[0m\u001b[0;34m:\u001b[0m\u001b[0;34m\u001b[0m\u001b[0m\n\u001b[0;32m---> 66\u001b[0;31m                 \u001b[0mnext\u001b[0m\u001b[0;34m(\u001b[0m\u001b[0mself\u001b[0m\u001b[0;34m.\u001b[0m\u001b[0mgen\u001b[0m\u001b[0;34m)\u001b[0m\u001b[0;34m\u001b[0m\u001b[0m\n\u001b[0m\u001b[1;32m     67\u001b[0m             \u001b[0;32mexcept\u001b[0m \u001b[0mStopIteration\u001b[0m\u001b[0;34m:\u001b[0m\u001b[0;34m\u001b[0m\u001b[0m\n",
      "\u001b[0;32m/Library/Frameworks/Python.framework/Versions/3.5/lib/python3.5/site-packages/tensorflow/python/framework/errors_impl.py\u001b[0m in \u001b[0;36mraise_exception_on_not_ok_status\u001b[0;34m()\u001b[0m\n\u001b[1;32m    468\u001b[0m           \u001b[0mcompat\u001b[0m\u001b[0;34m.\u001b[0m\u001b[0mas_text\u001b[0m\u001b[0;34m(\u001b[0m\u001b[0mpywrap_tensorflow\u001b[0m\u001b[0;34m.\u001b[0m\u001b[0mTF_Message\u001b[0m\u001b[0;34m(\u001b[0m\u001b[0mstatus\u001b[0m\u001b[0;34m)\u001b[0m\u001b[0;34m)\u001b[0m\u001b[0;34m,\u001b[0m\u001b[0;34m\u001b[0m\u001b[0m\n\u001b[0;32m--> 469\u001b[0;31m           pywrap_tensorflow.TF_GetCode(status))\n\u001b[0m\u001b[1;32m    470\u001b[0m   \u001b[0;32mfinally\u001b[0m\u001b[0;34m:\u001b[0m\u001b[0;34m\u001b[0m\u001b[0m\n",
      "\u001b[0;31mFailedPreconditionError\u001b[0m: Attempting to use uninitialized value w\n\t [[Node: _send_w_0 = _Send[T=DT_FLOAT, client_terminated=true, recv_device=\"/job:localhost/replica:0/task:0/cpu:0\", send_device=\"/job:localhost/replica:0/task:0/cpu:0\", send_device_incarnation=3307529096265022738, tensor_name=\"w:0\", _device=\"/job:localhost/replica:0/task:0/cpu:0\"](w)]]",
      "\nDuring handling of the above exception, another exception occurred:\n",
      "\u001b[0;31mFailedPreconditionError\u001b[0m                   Traceback (most recent call last)",
      "\u001b[0;32m<ipython-input-42-1a55321211d7>\u001b[0m in \u001b[0;36m<module>\u001b[0;34m()\u001b[0m\n\u001b[0;32m----> 1\u001b[0;31m \u001b[0msess\u001b[0m\u001b[0;34m.\u001b[0m\u001b[0mrun\u001b[0m\u001b[0;34m(\u001b[0m\u001b[0mw\u001b[0m\u001b[0;34m)\u001b[0m \u001b[0;31m## 变量默认没有初始化的操作\u001b[0m\u001b[0;34m\u001b[0m\u001b[0m\n\u001b[0m",
      "\u001b[0;32m/Library/Frameworks/Python.framework/Versions/3.5/lib/python3.5/site-packages/tensorflow/python/client/session.py\u001b[0m in \u001b[0;36mrun\u001b[0;34m(self, fetches, feed_dict, options, run_metadata)\u001b[0m\n\u001b[1;32m    764\u001b[0m     \u001b[0;32mtry\u001b[0m\u001b[0;34m:\u001b[0m\u001b[0;34m\u001b[0m\u001b[0m\n\u001b[1;32m    765\u001b[0m       result = self._run(None, fetches, feed_dict, options_ptr,\n\u001b[0;32m--> 766\u001b[0;31m                          run_metadata_ptr)\n\u001b[0m\u001b[1;32m    767\u001b[0m       \u001b[0;32mif\u001b[0m \u001b[0mrun_metadata\u001b[0m\u001b[0;34m:\u001b[0m\u001b[0;34m\u001b[0m\u001b[0m\n\u001b[1;32m    768\u001b[0m         \u001b[0mproto_data\u001b[0m \u001b[0;34m=\u001b[0m \u001b[0mtf_session\u001b[0m\u001b[0;34m.\u001b[0m\u001b[0mTF_GetBuffer\u001b[0m\u001b[0;34m(\u001b[0m\u001b[0mrun_metadata_ptr\u001b[0m\u001b[0;34m)\u001b[0m\u001b[0;34m\u001b[0m\u001b[0m\n",
      "\u001b[0;32m/Library/Frameworks/Python.framework/Versions/3.5/lib/python3.5/site-packages/tensorflow/python/client/session.py\u001b[0m in \u001b[0;36m_run\u001b[0;34m(self, handle, fetches, feed_dict, options, run_metadata)\u001b[0m\n\u001b[1;32m    962\u001b[0m     \u001b[0;32mif\u001b[0m \u001b[0mfinal_fetches\u001b[0m \u001b[0;32mor\u001b[0m \u001b[0mfinal_targets\u001b[0m\u001b[0;34m:\u001b[0m\u001b[0;34m\u001b[0m\u001b[0m\n\u001b[1;32m    963\u001b[0m       results = self._do_run(handle, final_targets, final_fetches,\n\u001b[0;32m--> 964\u001b[0;31m                              feed_dict_string, options, run_metadata)\n\u001b[0m\u001b[1;32m    965\u001b[0m     \u001b[0;32melse\u001b[0m\u001b[0;34m:\u001b[0m\u001b[0;34m\u001b[0m\u001b[0m\n\u001b[1;32m    966\u001b[0m       \u001b[0mresults\u001b[0m \u001b[0;34m=\u001b[0m \u001b[0;34m[\u001b[0m\u001b[0;34m]\u001b[0m\u001b[0;34m\u001b[0m\u001b[0m\n",
      "\u001b[0;32m/Library/Frameworks/Python.framework/Versions/3.5/lib/python3.5/site-packages/tensorflow/python/client/session.py\u001b[0m in \u001b[0;36m_do_run\u001b[0;34m(self, handle, target_list, fetch_list, feed_dict, options, run_metadata)\u001b[0m\n\u001b[1;32m   1012\u001b[0m     \u001b[0;32mif\u001b[0m \u001b[0mhandle\u001b[0m \u001b[0;32mis\u001b[0m \u001b[0;32mNone\u001b[0m\u001b[0;34m:\u001b[0m\u001b[0;34m\u001b[0m\u001b[0m\n\u001b[1;32m   1013\u001b[0m       return self._do_call(_run_fn, self._session, feed_dict, fetch_list,\n\u001b[0;32m-> 1014\u001b[0;31m                            target_list, options, run_metadata)\n\u001b[0m\u001b[1;32m   1015\u001b[0m     \u001b[0;32melse\u001b[0m\u001b[0;34m:\u001b[0m\u001b[0;34m\u001b[0m\u001b[0m\n\u001b[1;32m   1016\u001b[0m       return self._do_call(_prun_fn, self._session, handle, feed_dict,\n",
      "\u001b[0;32m/Library/Frameworks/Python.framework/Versions/3.5/lib/python3.5/site-packages/tensorflow/python/client/session.py\u001b[0m in \u001b[0;36m_do_call\u001b[0;34m(self, fn, *args)\u001b[0m\n\u001b[1;32m   1032\u001b[0m         \u001b[0;32mexcept\u001b[0m \u001b[0mKeyError\u001b[0m\u001b[0;34m:\u001b[0m\u001b[0;34m\u001b[0m\u001b[0m\n\u001b[1;32m   1033\u001b[0m           \u001b[0;32mpass\u001b[0m\u001b[0;34m\u001b[0m\u001b[0m\n\u001b[0;32m-> 1034\u001b[0;31m       \u001b[0;32mraise\u001b[0m \u001b[0mtype\u001b[0m\u001b[0;34m(\u001b[0m\u001b[0me\u001b[0m\u001b[0;34m)\u001b[0m\u001b[0;34m(\u001b[0m\u001b[0mnode_def\u001b[0m\u001b[0;34m,\u001b[0m \u001b[0mop\u001b[0m\u001b[0;34m,\u001b[0m \u001b[0mmessage\u001b[0m\u001b[0;34m)\u001b[0m\u001b[0;34m\u001b[0m\u001b[0m\n\u001b[0m\u001b[1;32m   1035\u001b[0m \u001b[0;34m\u001b[0m\u001b[0m\n\u001b[1;32m   1036\u001b[0m   \u001b[0;32mdef\u001b[0m \u001b[0m_extend_graph\u001b[0m\u001b[0;34m(\u001b[0m\u001b[0mself\u001b[0m\u001b[0;34m)\u001b[0m\u001b[0;34m:\u001b[0m\u001b[0;34m\u001b[0m\u001b[0m\n",
      "\u001b[0;31mFailedPreconditionError\u001b[0m: Attempting to use uninitialized value w\n\t [[Node: _send_w_0 = _Send[T=DT_FLOAT, client_terminated=true, recv_device=\"/job:localhost/replica:0/task:0/cpu:0\", send_device=\"/job:localhost/replica:0/task:0/cpu:0\", send_device_incarnation=3307529096265022738, tensor_name=\"w:0\", _device=\"/job:localhost/replica:0/task:0/cpu:0\"](w)]]"
     ]
    }
   ],
   "source": [
    "sess.run(w) ## 变量默认没有初始化的操作"
   ]
  },
  {
   "cell_type": "code",
   "execution_count": 44,
   "metadata": {},
   "outputs": [
    {
     "data": {
      "text/plain": [
       "array([ 0.47264075], dtype=float32)"
      ]
     },
     "execution_count": 44,
     "metadata": {},
     "output_type": "execute_result"
    }
   ],
   "source": [
    "init = tf.global_variables_initializer()\n",
    "sess.run(init)\n",
    "sess.run(w)"
   ]
  },
  {
   "cell_type": "code",
   "execution_count": 47,
   "metadata": {},
   "outputs": [
    {
     "data": {
      "text/plain": [
       "array([-0.45730233], dtype=float32)"
      ]
     },
     "execution_count": 47,
     "metadata": {},
     "output_type": "execute_result"
    }
   ],
   "source": [
    "sess.run(w) ## 如果不重新初始化，值不变"
   ]
  },
  {
   "cell_type": "code",
   "execution_count": 48,
   "metadata": {},
   "outputs": [
    {
     "data": {
      "text/plain": [
       "array([ 0.14249063], dtype=float32)"
      ]
     },
     "execution_count": 48,
     "metadata": {},
     "output_type": "execute_result"
    }
   ],
   "source": [
    "sess.run(init) ## 重新初始化才能得到一个新的值\n",
    "sess.run(w)"
   ]
  },
  {
   "cell_type": "markdown",
   "metadata": {},
   "source": [
    "# 线性回归"
   ]
  },
  {
   "cell_type": "code",
   "execution_count": 49,
   "metadata": {},
   "outputs": [
    {
     "data": {
      "text/plain": [
       "[<matplotlib.lines.Line2D at 0x10f84b9e8>]"
      ]
     },
     "execution_count": 49,
     "metadata": {},
     "output_type": "execute_result"
    },
    {
     "data": {
      "image/png": "[encoded data removed]",
      "text/plain": [
       "<matplotlib.figure.Figure at 0x10f8567b8>"
      ]
     },
     "metadata": {},
     "output_type": "display_data"
    }
   ],
   "source": [
    "x = np.arange(0,20)\n",
    "y = x + np.random.normal(size=20)\n",
    "plt.plot(x,y)"
   ]
  },
  {
   "cell_type": "code",
   "execution_count": 54,
   "metadata": {
    "collapsed": true
   },
   "outputs": [],
   "source": [
    "tf.reset_default_graph\n",
    "\n",
    "w = tf.Variable(tf.random_uniform([1],-1,1),name='w')\n",
    "b = tf.Variable(tf.zeros([1]),name='b')\n",
    "y_bar = w*x + b\n",
    "cost = tf.reduce_mean((y_bar - y) ** 2)"
   ]
  },
  {
   "cell_type": "code",
   "execution_count": 55,
   "metadata": {},
   "outputs": [
    {
     "name": "stdout",
     "output_type": "stream",
     "text": [
      "[array([-0.05618191], dtype=float32), array([ 0.], dtype=float32)]\n",
      "136.154\n"
     ]
    }
   ],
   "source": [
    "sess.run(tf.global_variables_initializer())\n",
    "print(sess.run([w,b]))\n",
    "print(sess.run(cost))"
   ]
  },
  {
   "cell_type": "code",
   "execution_count": 56,
   "metadata": {},
   "outputs": [
    {
     "data": {
      "text/plain": [
       "[<matplotlib.lines.Line2D at 0x1102c1a20>]"
      ]
     },
     "execution_count": 56,
     "metadata": {},
     "output_type": "execute_result"
    },
    {
     "data": {
      "image/png": "[encoded data removed]",
      "text/plain": [
       "<matplotlib.figure.Figure at 0x1101cb358>"
      ]
     },
     "metadata": {},
     "output_type": "display_data"
    }
   ],
   "source": [
    "y_foo = sess.run(y_bar) ## 划出实际的图\n",
    "plt.plot(x,y_foo)"
   ]
  },
  {
   "cell_type": "code",
   "execution_count": 59,
   "metadata": {},
   "outputs": [
    {
     "data": {
      "image/png": "[encoded data removed]",
      "text/latex": [
       "$$136.154429062$$"
      ],
      "text/plain": [
       "136.154429062"
      ]
     },
     "execution_count": 59,
     "metadata": {},
     "output_type": "execute_result"
    }
   ],
   "source": [
    "y_foo = np.array([-0.05618191]) * x + 0\n",
    "np.mean((y_foo - y)**2) ## 手动求解结果"
   ]
  },
  {
   "cell_type": "markdown",
   "metadata": {},
   "source": [
    "# 梯度下降"
   ]
  },
  {
   "cell_type": "code",
   "execution_count": 62,
   "metadata": {},
   "outputs": [
    {
     "name": "stdout",
     "output_type": "stream",
     "text": [
      "4.88745\n",
      "[array([ 0.81188244], dtype=float32), array([ 0.00036801], dtype=float32)]\n",
      "4.69494\n",
      "[array([ 0.81628281], dtype=float32), array([ 0.00072738], dtype=float32)]\n",
      "4.51189\n",
      "[array([ 0.82057381], dtype=float32), array([ 0.00107831], dtype=float32)]\n",
      "4.33782\n",
      "[array([ 0.82475811], dtype=float32), array([ 0.00142102], dtype=float32)]\n",
      "4.17229\n",
      "[array([ 0.82883847], dtype=float32), array([ 0.00175572], dtype=float32)]\n",
      "4.01488\n",
      "[array([ 0.83281738], dtype=float32), array([ 0.00208259], dtype=float32)]\n",
      "3.8652\n",
      "[array([ 0.8366974], dtype=float32), array([ 0.00240184], dtype=float32)]\n",
      "3.72287\n",
      "[array([ 0.84048098], dtype=float32), array([ 0.00271365], dtype=float32)]\n",
      "3.58752\n",
      "[array([ 0.84417051], dtype=float32), array([ 0.00301821], dtype=float32)]\n",
      "3.45881\n",
      "[array([ 0.84776831], dtype=float32), array([ 0.0033157], dtype=float32)]\n",
      "3.33642\n",
      "[array([ 0.8512767], dtype=float32), array([ 0.00360629], dtype=float32)]\n",
      "3.22003\n",
      "[array([ 0.85469788], dtype=float32), array([ 0.00389016], dtype=float32)]\n",
      "3.10936\n",
      "[array([ 0.85803401], dtype=float32), array([ 0.00416747], dtype=float32)]\n",
      "3.00411\n",
      "[array([ 0.86128724], dtype=float32), array([ 0.00443839], dtype=float32)]\n",
      "2.90403\n",
      "[array([ 0.86445957], dtype=float32), array([ 0.00470307], dtype=float32)]\n",
      "2.80887\n",
      "[array([ 0.86755306], dtype=float32), array([ 0.00496168], dtype=float32)]\n",
      "2.71837\n",
      "[array([ 0.87056965], dtype=float32), array([ 0.00521435], dtype=float32)]\n",
      "2.63231\n",
      "[array([ 0.8735112], dtype=float32), array([ 0.00546124], dtype=float32)]\n",
      "2.55048\n",
      "[array([ 0.87637967], dtype=float32), array([ 0.0057025], dtype=float32)]\n",
      "2.47266\n",
      "[array([ 0.8791768], dtype=float32), array([ 0.00593825], dtype=float32)]\n",
      "2.39866\n",
      "[array([ 0.88190442], dtype=float32), array([ 0.00616864], dtype=float32)]\n",
      "2.3283\n",
      "[array([ 0.88456422], dtype=float32), array([ 0.00639381], dtype=float32)]\n",
      "2.26138\n",
      "[array([ 0.88715792], dtype=float32), array([ 0.00661387], dtype=float32)]\n",
      "2.19775\n",
      "[array([ 0.88968712], dtype=float32), array([ 0.00682897], dtype=float32)]\n",
      "2.13724\n",
      "[array([ 0.89215344], dtype=float32), array([ 0.00703921], dtype=float32)]\n",
      "2.07971\n",
      "[array([ 0.89455843], dtype=float32), array([ 0.00724473], dtype=float32)]\n",
      "2.02499\n",
      "[array([ 0.89690363], dtype=float32), array([ 0.00744564], dtype=float32)]\n",
      "1.97296\n",
      "[array([ 0.89919055], dtype=float32), array([ 0.00764205], dtype=float32)]\n",
      "1.92348\n",
      "[array([ 0.90142059], dtype=float32), array([ 0.00783407], dtype=float32)]\n",
      "1.87644\n",
      "[array([ 0.90359515], dtype=float32), array([ 0.00802182], dtype=float32)]\n",
      "1.8317\n",
      "[array([ 0.90571564], dtype=float32), array([ 0.00820541], dtype=float32)]\n",
      "1.78915\n",
      "[array([ 0.90778345], dtype=float32), array([ 0.00838492], dtype=float32)]\n",
      "1.7487\n",
      "[array([ 0.90979981], dtype=float32), array([ 0.00856047], dtype=float32)]\n",
      "1.71022\n",
      "[array([ 0.91176605], dtype=float32), array([ 0.00873216], dtype=float32)]\n",
      "1.67364\n",
      "[array([ 0.91368341], dtype=float32), array([ 0.00890007], dtype=float32)]\n",
      "1.63885\n",
      "[array([ 0.91555309], dtype=float32), array([ 0.00906431], dtype=float32)]\n",
      "1.60577\n",
      "[array([ 0.91737628], dtype=float32), array([ 0.00922496], dtype=float32)]\n",
      "1.57431\n",
      "[array([ 0.91915411], dtype=float32), array([ 0.00938212], dtype=float32)]\n",
      "1.5444\n",
      "[array([ 0.92088771], dtype=float32), array([ 0.00953587], dtype=float32)]\n",
      "1.51595\n",
      "[array([ 0.92257822], dtype=float32), array([ 0.00968629], dtype=float32)]\n",
      "1.4889\n",
      "[array([ 0.9242267], dtype=float32), array([ 0.00983347], dtype=float32)]\n",
      "1.46317\n",
      "[array([ 0.92583418], dtype=float32), array([ 0.00997749], dtype=float32)]\n",
      "1.43871\n",
      "[array([ 0.92740166], dtype=float32), array([ 0.01011843], dtype=float32)]\n",
      "1.41545\n",
      "[array([ 0.92893016], dtype=float32), array([ 0.01025636], dtype=float32)]\n",
      "1.39333\n",
      "[array([ 0.93042064], dtype=float32), array([ 0.01039136], dtype=float32)]\n",
      "1.3723\n",
      "[array([ 0.93187404], dtype=float32), array([ 0.01052349], dtype=float32)]\n",
      "1.3523\n",
      "[array([ 0.93329132], dtype=float32), array([ 0.01065285], dtype=float32)]\n",
      "1.33328\n",
      "[array([ 0.93467331], dtype=float32), array([ 0.01077948], dtype=float32)]\n",
      "1.31519\n",
      "[array([ 0.93602097], dtype=float32), array([ 0.01090346], dtype=float32)]\n",
      "1.29799\n",
      "[array([ 0.93733507], dtype=float32), array([ 0.01102486], dtype=float32)]\n",
      "1.28163\n",
      "[array([ 0.93861651], dtype=float32), array([ 0.01114373], dtype=float32)]\n",
      "1.26608\n",
      "[array([ 0.93986607], dtype=float32), array([ 0.01126015], dtype=float32)]\n",
      "1.25129\n",
      "[array([ 0.9410845], dtype=float32), array([ 0.01137417], dtype=float32)]\n",
      "1.23722\n",
      "[array([ 0.94227266], dtype=float32), array([ 0.01148585], dtype=float32)]\n",
      "1.22385\n",
      "[array([ 0.94343126], dtype=float32), array([ 0.01159525], dtype=float32)]\n",
      "1.21113\n",
      "[array([ 0.944561], dtype=float32), array([ 0.01170243], dtype=float32)]\n",
      "1.19903\n",
      "[array([ 0.94566268], dtype=float32), array([ 0.01180744], dtype=float32)]\n",
      "1.18753\n",
      "[array([ 0.94673693], dtype=float32), array([ 0.01191033], dtype=float32)]\n",
      "1.1766\n",
      "[array([ 0.94778442], dtype=float32), array([ 0.01201117], dtype=float32)]\n",
      "1.1662\n",
      "[array([ 0.94880587], dtype=float32), array([ 0.01210999], dtype=float32)]\n",
      "1.15631\n",
      "[array([ 0.94980192], dtype=float32), array([ 0.01220686], dtype=float32)]\n",
      "1.1469\n",
      "[array([ 0.95077318], dtype=float32), array([ 0.01230181], dtype=float32)]\n",
      "1.13796\n",
      "[array([ 0.95172024], dtype=float32), array([ 0.01239489], dtype=float32)]\n",
      "1.12945\n",
      "[array([ 0.95264375], dtype=float32), array([ 0.01248616], dtype=float32)]\n",
      "1.12136\n",
      "[array([ 0.95354426], dtype=float32), array([ 0.01257566], dtype=float32)]\n",
      "1.11367\n",
      "[array([ 0.95442235], dtype=float32), array([ 0.01266343], dtype=float32)]\n",
      "1.10636\n",
      "[array([ 0.95527864], dtype=float32), array([ 0.01274951], dtype=float32)]\n",
      "1.0994\n",
      "[array([ 0.95611358], dtype=float32), array([ 0.01283395], dtype=float32)]\n",
      "1.09279\n",
      "[array([ 0.95692772], dtype=float32), array([ 0.01291678], dtype=float32)]\n",
      "1.0865\n",
      "[array([ 0.95772159], dtype=float32), array([ 0.01299805], dtype=float32)]\n",
      "1.08052\n",
      "[array([ 0.95849574], dtype=float32), array([ 0.0130778], dtype=float32)]\n",
      "1.07483\n",
      "[array([ 0.95925057], dtype=float32), array([ 0.01315606], dtype=float32)]\n",
      "1.06942\n",
      "[array([ 0.95998663], dtype=float32), array([ 0.01323287], dtype=float32)]\n",
      "1.06428\n",
      "[array([ 0.96070439], dtype=float32), array([ 0.01330826], dtype=float32)]\n",
      "1.05939\n",
      "[array([ 0.96140426], dtype=float32), array([ 0.01338228], dtype=float32)]\n",
      "1.05473\n",
      "[array([ 0.96208668], dtype=float32), array([ 0.01345495], dtype=float32)]\n",
      "1.05031\n",
      "[array([ 0.9627521], dtype=float32), array([ 0.01352631], dtype=float32)]\n",
      "1.04611\n",
      "[array([ 0.96340096], dtype=float32), array([ 0.01359639], dtype=float32)]\n",
      "1.04211\n",
      "[array([ 0.96403366], dtype=float32), array([ 0.01366523], dtype=float32)]\n",
      "1.0383\n",
      "[array([ 0.96465063], dtype=float32), array([ 0.01373285], dtype=float32)]\n",
      "1.03468\n",
      "[array([ 0.96525222], dtype=float32), array([ 0.01379928], dtype=float32)]\n",
      "1.03124\n",
      "[array([ 0.96583885], dtype=float32), array([ 0.01386456], dtype=float32)]\n",
      "1.02797\n",
      "[array([ 0.96641082], dtype=float32), array([ 0.01392871], dtype=float32)]\n",
      "1.02486\n",
      "[array([ 0.96696854], dtype=float32), array([ 0.01399176], dtype=float32)]\n",
      "1.0219\n",
      "[array([ 0.96751237], dtype=float32), array([ 0.01405374], dtype=float32)]\n",
      "1.01909\n",
      "[array([ 0.96804267], dtype=float32), array([ 0.01411467], dtype=float32)]\n",
      "1.01641\n",
      "[array([ 0.96855974], dtype=float32), array([ 0.01417458], dtype=float32)]\n",
      "1.01387\n",
      "[array([ 0.96906394], dtype=float32), array([ 0.0142335], dtype=float32)]\n",
      "1.01145\n",
      "[array([ 0.96955556], dtype=float32), array([ 0.01429145], dtype=float32)]\n",
      "1.00914\n",
      "[array([ 0.97003496], dtype=float32), array([ 0.01434845], dtype=float32)]\n",
      "1.00696\n",
      "[array([ 0.97050238], dtype=float32), array([ 0.01440453], dtype=float32)]\n",
      "1.00487\n",
      "[array([ 0.97095817], dtype=float32), array([ 0.01445971], dtype=float32)]\n",
      "1.00289\n",
      "[array([ 0.97140259], dtype=float32), array([ 0.01451402], dtype=float32)]\n",
      "1.00101\n",
      "[array([ 0.97183591], dtype=float32), array([ 0.01456747], dtype=float32)]\n",
      "0.99922\n",
      "[array([ 0.97225845], dtype=float32), array([ 0.01462008], dtype=float32)]\n",
      "0.997517\n",
      "[array([ 0.97267044], dtype=float32), array([ 0.01467188], dtype=float32)]\n",
      "0.995898\n",
      "[array([ 0.97307217], dtype=float32), array([ 0.01472289], dtype=float32)]\n",
      "0.994357\n",
      "[array([ 0.97346389], dtype=float32), array([ 0.01477313], dtype=float32)]\n",
      "0.992893\n",
      "[array([ 0.97384584], dtype=float32), array([ 0.01482261], dtype=float32)]\n",
      "0.9915\n",
      "[array([ 0.97421825], dtype=float32), array([ 0.01487135], dtype=float32)]\n"
     ]
    }
   ],
   "source": [
    "train_step = tf.train.GradientDescentOptimizer(0.0001).minimize(cost)\n",
    "costs = []\n",
    "with tf.Session() as sess:\n",
    "    sess.run(tf.global_variables_initializer())\n",
    "    for i in range(100):\n",
    "        sess.run(train_step)\n",
    "        cost_v = sess.run(cost)\n",
    "        costs.append(cost_v)\n",
    "        print(cost_v)\n",
    "        print(sess.run([w,b]))"
   ]
  },
  {
   "cell_type": "code",
   "execution_count": 63,
   "metadata": {},
   "outputs": [
    {
     "data": {
      "text/plain": [
       "[<matplotlib.lines.Line2D at 0x11087eb00>]"
      ]
     },
     "execution_count": 63,
     "metadata": {},
     "output_type": "execute_result"
    },
    {
     "data": {
      "image/png": "[encoded data removed]",
      "text/plain": [
       "<matplotlib.figure.Figure at 0x11063ef98>"
      ]
     },
     "metadata": {},
     "output_type": "display_data"
    }
   ],
   "source": [
    "plt.plot(costs)"
   ]
  },
  {
   "cell_type": "code",
   "execution_count": 64,
   "metadata": {
    "collapsed": true
   },
   "outputs": [],
   "source": [
    "tf.reset_default_graph\n",
    "x_p = tf.placeholder('float')\n",
    "y_p = tf.placeholder('float')\n",
    "\n",
    "w = tf.Variable(tf.random_uniform([1],-1,1),name='w')\n",
    "b = tf.Variable(tf.zeros([1]),name='b')\n",
    "y_bar = w*x_p + b\n",
    "cost = tf.reduce_mean((y_bar - y_p) ** 2)"
   ]
  },
  {
   "cell_type": "code",
   "execution_count": 66,
   "metadata": {},
   "outputs": [
    {
     "name": "stdout",
     "output_type": "stream",
     "text": [
      "197.973\n",
      "[array([-0.27313501], dtype=float32), array([ 0.00248176], dtype=float32)]\n",
      "188.304\n",
      "[array([-0.24193874], dtype=float32), array([ 0.00490223], dtype=float32)]\n",
      "179.109\n",
      "[array([-0.21151762], dtype=float32), array([ 0.00726295], dtype=float32)]\n",
      "170.366\n",
      "[array([-0.18185239], dtype=float32), array([ 0.0095654], dtype=float32)]\n",
      "162.052\n",
      "[array([-0.15292425], dtype=float32), array([ 0.01181102], dtype=float32)]\n",
      "154.146\n",
      "[array([-0.12471491], dtype=float32), array([ 0.01400123], dtype=float32)]\n",
      "146.627\n",
      "[array([-0.0972065], dtype=float32), array([ 0.01613741], dtype=float32)]\n",
      "139.478\n",
      "[array([-0.07038161], dtype=float32), array([ 0.01822089], dtype=float32)]\n",
      "132.68\n",
      "[array([-0.04422325], dtype=float32), array([ 0.02025299], dtype=float32)]\n",
      "126.215\n",
      "[array([-0.01871486], dtype=float32), array([ 0.02223498], dtype=float32)]\n",
      "120.068\n",
      "[array([ 0.0061597], dtype=float32), array([ 0.02416811], dtype=float32)]\n",
      "114.222\n",
      "[array([ 0.03041619], dtype=float32), array([ 0.02605359], dtype=float32)]\n",
      "108.663\n",
      "[array([ 0.05406996], dtype=float32), array([ 0.0278926], dtype=float32)]\n",
      "103.377\n",
      "[array([ 0.07713599], dtype=float32), array([ 0.02968631], dtype=float32)]\n",
      "98.3502\n",
      "[array([ 0.09962888], dtype=float32), array([ 0.03143582], dtype=float32)]\n",
      "93.5702\n",
      "[array([ 0.12156287], dtype=float32), array([ 0.03314226], dtype=float32)]\n",
      "89.0248\n",
      "[array([ 0.14295185], dtype=float32), array([ 0.03480668], dtype=float32)]\n",
      "84.7025\n",
      "[array([ 0.16380936], dtype=float32), array([ 0.03643013], dtype=float32)]\n",
      "80.5923\n",
      "[array([ 0.18414861], dtype=float32), array([ 0.03801362], dtype=float32)]\n",
      "76.6837\n",
      "[array([ 0.20398247], dtype=float32), array([ 0.03955815], dtype=float32)]\n",
      "72.9671\n",
      "[array([ 0.22332349], dtype=float32), array([ 0.04106469], dtype=float32)]\n",
      "69.4328\n",
      "[array([ 0.24218394], dtype=float32), array([ 0.04253418], dtype=float32)]\n",
      "66.0719\n",
      "[array([ 0.26057574], dtype=float32), array([ 0.04396754], dtype=float32)]\n",
      "62.876\n",
      "[array([ 0.27851054], dtype=float32), array([ 0.04536567], dtype=float32)]\n",
      "59.8369\n",
      "[array([ 0.29599968], dtype=float32), array([ 0.04672944], dtype=float32)]\n",
      "56.947\n",
      "[array([ 0.31305426], dtype=float32), array([ 0.04805971], dtype=float32)]\n",
      "54.1989\n",
      "[array([ 0.32968506], dtype=float32), array([ 0.04935731], dtype=float32)]\n",
      "51.5857\n",
      "[array([ 0.34590262], dtype=float32), array([ 0.05062306], dtype=float32)]\n",
      "49.1007\n",
      "[array([ 0.36171719], dtype=float32), array([ 0.05185773], dtype=float32)]\n",
      "46.7376\n",
      "[array([ 0.37713879], dtype=float32), array([ 0.05306211], dtype=float32)]\n",
      "44.4906\n",
      "[array([ 0.39217719], dtype=float32), array([ 0.05423696], dtype=float32)]\n",
      "42.3538\n",
      "[array([ 0.40684193], dtype=float32), array([ 0.05538299], dtype=float32)]\n",
      "40.3218\n",
      "[array([ 0.42114225], dtype=float32), array([ 0.05650093], dtype=float32)]\n",
      "38.3896\n",
      "[array([ 0.43508723], dtype=float32), array([ 0.05759148], dtype=float32)]\n",
      "36.5522\n",
      "[array([ 0.44868571], dtype=float32), array([ 0.05865531], dtype=float32)]\n",
      "34.805\n",
      "[array([ 0.46194628], dtype=float32), array([ 0.05969309], dtype=float32)]\n",
      "33.1435\n",
      "[array([ 0.47487736], dtype=float32), array([ 0.06070547], dtype=float32)]\n",
      "31.5636\n",
      "[array([ 0.48748711], dtype=float32), array([ 0.06169308], dtype=float32)]\n",
      "30.0612\n",
      "[array([ 0.49978352], dtype=float32), array([ 0.06265653], dtype=float32)]\n",
      "28.6325\n",
      "[array([ 0.51177436], dtype=float32), array([ 0.06359643], dtype=float32)]\n",
      "27.274\n",
      "[array([ 0.52346724], dtype=float32), array([ 0.06451336], dtype=float32)]\n",
      "25.9821\n",
      "[array([ 0.53486955], dtype=float32), array([ 0.06540788], dtype=float32)]\n",
      "24.7536\n",
      "[array([ 0.54598856], dtype=float32), array([ 0.06628057], dtype=float32)]\n",
      "23.5854\n",
      "[array([ 0.55683124], dtype=float32), array([ 0.06713195], dtype=float32)]\n",
      "22.4746\n",
      "[array([ 0.56740451], dtype=float32), array([ 0.06796256], dtype=float32)]\n",
      "21.4182\n",
      "[array([ 0.57771504], dtype=float32), array([ 0.06877292], dtype=float32)]\n",
      "20.4137\n",
      "[array([ 0.58776939], dtype=float32), array([ 0.06956352], dtype=float32)]\n",
      "19.4585\n",
      "[array([ 0.59757388], dtype=float32), array([ 0.07033487], dtype=float32)]\n",
      "18.5501\n",
      "[array([ 0.6071347], dtype=float32), array([ 0.07108743], dtype=float32)]\n",
      "17.6864\n",
      "[array([ 0.61645794], dtype=float32), array([ 0.07182167], dtype=float32)]\n",
      "16.865\n",
      "[array([ 0.6255495], dtype=float32), array([ 0.07253805], dtype=float32)]\n",
      "16.084\n",
      "[array([ 0.63441515], dtype=float32), array([ 0.07323702], dtype=float32)]\n",
      "15.3412\n",
      "[array([ 0.64306051], dtype=float32), array([ 0.073919], dtype=float32)]\n",
      "14.635\n",
      "[array([ 0.65149105], dtype=float32), array([ 0.07458442], dtype=float32)]\n",
      "13.9633\n",
      "[array([ 0.65971208], dtype=float32), array([ 0.07523368], dtype=float32)]\n",
      "13.3247\n",
      "[array([ 0.66772878], dtype=float32), array([ 0.0758672], dtype=float32)]\n",
      "12.7174\n",
      "[array([ 0.67554629], dtype=float32), array([ 0.07648536], dtype=float32)]\n",
      "12.1399\n",
      "[array([ 0.68316954], dtype=float32), array([ 0.07708854], dtype=float32)]\n",
      "11.5907\n",
      "[array([ 0.69060332], dtype=float32), array([ 0.07767712], dtype=float32)]\n",
      "11.0685\n",
      "[array([ 0.69785237], dtype=float32), array([ 0.07825145], dtype=float32)]\n",
      "10.5719\n",
      "[array([ 0.70492131], dtype=float32), array([ 0.0788119], dtype=float32)]\n",
      "10.0997\n",
      "[array([ 0.71181458], dtype=float32), array([ 0.0793588], dtype=float32)]\n",
      "9.65061\n",
      "[array([ 0.71853656], dtype=float32), array([ 0.0798925], dtype=float32)]\n",
      "9.2236\n",
      "[array([ 0.72509146], dtype=float32), array([ 0.08041332], dtype=float32)]\n",
      "8.81755\n",
      "[array([ 0.73148346], dtype=float32), array([ 0.08092158], dtype=float32)]\n",
      "8.43142\n",
      "[array([ 0.73771662], dtype=float32), array([ 0.0814176], dtype=float32)]\n",
      "8.06425\n",
      "[array([ 0.74379486], dtype=float32), array([ 0.08190167], dtype=float32)]\n",
      "7.71509\n",
      "[array([ 0.74972206], dtype=float32), array([ 0.0823741], dtype=float32)]\n",
      "7.38306\n",
      "[array([ 0.75550199], dtype=float32), array([ 0.08283517], dtype=float32)]\n",
      "7.06734\n",
      "[array([ 0.76113826], dtype=float32), array([ 0.08328516], dtype=float32)]\n",
      "6.7671\n",
      "[array([ 0.76663446], dtype=float32), array([ 0.08372436], dtype=float32)]\n",
      "6.4816\n",
      "[array([ 0.77199405], dtype=float32), array([ 0.08415303], dtype=float32)]\n",
      "6.21011\n",
      "[array([ 0.77722049], dtype=float32), array([ 0.08457142], dtype=float32)]\n",
      "5.95195\n",
      "[array([ 0.78231698], dtype=float32), array([ 0.0849798], dtype=float32)]\n",
      "5.70645\n",
      "[array([ 0.78728682], dtype=float32), array([ 0.08537842], dtype=float32)]\n",
      "5.473\n",
      "[array([ 0.79213315], dtype=float32), array([ 0.08576752], dtype=float32)]\n",
      "5.25101\n",
      "[array([ 0.79685909], dtype=float32), array([ 0.08614733], dtype=float32)]\n",
      "5.03991\n",
      "[array([ 0.80146754], dtype=float32), array([ 0.08651809], dtype=float32)]\n",
      "4.83918\n",
      "[array([ 0.80596143], dtype=float32), array([ 0.08688001], dtype=float32)]\n",
      "4.64829\n",
      "[array([ 0.81034368], dtype=float32), array([ 0.08723333], dtype=float32)]\n",
      "4.46677\n",
      "[array([ 0.81461698], dtype=float32), array([ 0.08757824], dtype=float32)]\n",
      "4.29416\n",
      "[array([ 0.81878412], dtype=float32), array([ 0.08791497], dtype=float32)]\n",
      "4.13002\n",
      "[array([ 0.82284766], dtype=float32), array([ 0.08824372], dtype=float32)]\n",
      "3.97393\n",
      "[array([ 0.82681024], dtype=float32), array([ 0.08856467], dtype=float32)]\n",
      "3.82551\n",
      "[array([ 0.83067429], dtype=float32), array([ 0.08887804], dtype=float32)]\n",
      "3.68437\n",
      "[array([ 0.83444232], dtype=float32), array([ 0.08918399], dtype=float32)]\n",
      "3.55016\n",
      "[array([ 0.83811671], dtype=float32), array([ 0.08948273], dtype=float32)]\n",
      "3.42253\n",
      "[array([ 0.84169978], dtype=float32), array([ 0.08977443], dtype=float32)]\n",
      "3.30116\n",
      "[array([ 0.8451938], dtype=float32), array([ 0.09005927], dtype=float32)]\n",
      "3.18575\n",
      "[array([ 0.84860098], dtype=float32), array([ 0.0903374], dtype=float32)]\n",
      "3.07601\n",
      "[array([ 0.85192347], dtype=float32), array([ 0.09060901], dtype=float32)]\n",
      "2.97164\n",
      "[array([ 0.85516334], dtype=float32), array([ 0.09087425], dtype=float32)]\n",
      "2.87241\n",
      "[array([ 0.85832268], dtype=float32), array([ 0.09113329], dtype=float32)]\n",
      "2.77804\n",
      "[array([ 0.86140352], dtype=float32), array([ 0.09138627], dtype=float32)]\n",
      "2.6883\n",
      "[array([ 0.86440778], dtype=float32), array([ 0.09163334], dtype=float32)]\n",
      "2.60297\n",
      "[array([ 0.86733735], dtype=float32), array([ 0.09187466], dtype=float32)]\n",
      "2.52183\n",
      "[array([ 0.87019408], dtype=float32), array([ 0.09211036], dtype=float32)]\n",
      "2.44466\n",
      "[array([ 0.87297982], dtype=float32), array([ 0.09234058], dtype=float32)]\n",
      "2.37129\n",
      "[array([ 0.8756963], dtype=float32), array([ 0.09256547], dtype=float32)]\n",
      "2.30151\n",
      "[array([ 0.87834525], dtype=float32), array([ 0.09278515], dtype=float32)]\n"
     ]
    }
   ],
   "source": [
    "train_step = tf.train.GradientDescentOptimizer(0.0001).minimize(cost)\n",
    "costs = []\n",
    "with tf.Session() as sess:\n",
    "    sess.run(tf.global_variables_initializer())\n",
    "    for i in range(100):\n",
    "        feed_dict  = {x_p:x.astype(float),y_p:y}\n",
    "        sess.run(train_step,feed_dict=feed_dict)\n",
    "        print(sess.run(cost,feed_dict=feed_dict))\n",
    "        print(sess.run([w,b]))"
   ]
  },
  {
   "cell_type": "code",
   "execution_count": 67,
   "metadata": {},
   "outputs": [
    {
     "name": "stdout",
     "output_type": "stream",
     "text": [
      "Weights:\n",
      "[[-0.54862791 -0.38017887  0.12576421]\n",
      " [-0.49905518  0.01469134 -0.7447024 ]]\n",
      "Bias:\n",
      "[ 0.61949354 -0.79687595 -0.81227446]\n"
     ]
    }
   ],
   "source": [
    "import tensorflow as tf\n",
    "\n",
    "# The file path to save the data\n",
    "# 文件保存路径\n",
    "save_file = './kz-model.ckpt'\n",
    "\n",
    "# Two Tensor Variables: weights and bias\n",
    "# 两个 Tensor 变量：权重和偏置项\n",
    "weights = tf.Variable(tf.truncated_normal([2, 3]))\n",
    "bias = tf.Variable(tf.truncated_normal([3]))\n",
    "\n",
    "# Class used to save and/or restore Tensor Variables\n",
    "# 用来存取 Tensor 变量的类\n",
    "saver = tf.train.Saver()\n",
    "\n",
    "with tf.Session() as sess:\n",
    "    # Initialize all the Variables\n",
    "    # 初始化所有变量\n",
    "    sess.run(tf.global_variables_initializer())\n",
    "\n",
    "    # Show the values of weights and bias\n",
    "   # 显示变量和权重\n",
    "    print('Weights:')\n",
    "    print(sess.run(weights))\n",
    "    print('Bias:')\n",
    "    print(sess.run(bias))\n",
    "\n",
    "    # Save the model\n",
    "    # 保存模型\n",
    "    saver.save(sess, save_file)"
   ]
  },
  {
   "cell_type": "markdown",
   "metadata": {},
   "source": [
    "注意，你依然需要在 Python 中创建 weights 和 bias Tensors。tf.train.Saver.restore() 函数把之前保存的数据加载到  weights 和 bias 当中。\n",
    "因为 tf.train.Saver.restore() 设定了 TensorFlow 变量，这里你不需要调用  tf.global_variables_initializer()了。"
   ]
  },
  {
   "cell_type": "code",
   "execution_count": 68,
   "metadata": {},
   "outputs": [
    {
     "name": "stdout",
     "output_type": "stream",
     "text": [
      "Weight:\n",
      "[[-0.54862791 -0.38017887  0.12576421]\n",
      " [-0.49905518  0.01469134 -0.7447024 ]]\n",
      "Bias:\n",
      "[ 0.61949354 -0.79687595 -0.81227446]\n"
     ]
    }
   ],
   "source": [
    "# Remove the previous weights and bias\n",
    "# 移除之前的权重和偏置项\n",
    "tf.reset_default_graph()\n",
    "\n",
    "# Two Variables: weights and bias\n",
    "# 两个变量：权重和偏置项\n",
    "weights = tf.Variable(tf.truncated_normal([2, 3]))\n",
    "bias = tf.Variable(tf.truncated_normal([3]))\n",
    "\n",
    "# Class used to save and/or restore Tensor Variables\n",
    "# 用来存取 Tensor 变量的类\n",
    "saver = tf.train.Saver()\n",
    "\n",
    "with tf.Session() as sess:\n",
    "    # Load the weights and bias\n",
    "    # 加载权重和偏置项\n",
    "    saver.restore(sess, save_file)\n",
    "\n",
    "    # Show the values of weights and bias\n",
    "    # 显示权重和偏置项\n",
    "    print('Weight:')\n",
    "    print(sess.run(weights))\n",
    "    print('Bias:')\n",
    "    print(sess.run(bias))"
   ]
  },
  {
   "cell_type": "code",
   "execution_count": null,
   "metadata": {
    "collapsed": true
   },
   "outputs": [],
   "source": []
  }
 ],
 "metadata": {
  "kernelspec": {
   "display_name": "Python 3",
   "language": "python",
   "name": "python3"
  },
  "language_info": {
   "codemirror_mode": {
    "name": "ipython",
    "version": 3
   },
   "file_extension": ".py",
   "mimetype": "text/x-python",
   "name": "python",
   "nbconvert_exporter": "python",
   "pygments_lexer": "ipython3",
   "version": "3.5.0"
  }
 },
 "nbformat": 4,
 "nbformat_minor": 2
}
