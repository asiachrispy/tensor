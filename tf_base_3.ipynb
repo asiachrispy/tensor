{
 "cells": [
  {
   "cell_type": "code",
   "execution_count": 5,
   "metadata": {
    "collapsed": false
   },
   "outputs": [],
   "source": [
    "import tensorflow as tf\n",
    "\n",
    "with tf.name_scope(\"SA\"):\n",
    "    a = tf.add(1,2,\"sa_add\")\n",
    "    b = tf.mul(a,3,\"sa_mul\")\n",
    "    \n",
    "with tf.name_scope(\"SB\"):\n",
    "    c = tf.add(4,5,\"sb_add\")\n",
    "    d = tf.mul(c,6,\"sb_mul\")\n",
    "    \n",
    "e = tf.add(b,d,name=\"output\")\n",
    "sess = tf.Session()    \n",
    "sess.run(e)\n",
    "\n",
    "write = tf.summary.FileWriter('graph/',tf.get_default_graph())\n",
    "write.close()"
   ]
  },
  {
   "cell_type": "code",
   "execution_count": 17,
   "metadata": {
    "collapsed": false
   },
   "outputs": [
    {
     "name": "stdout",
     "output_type": "stream",
     "text": [
      "INFO:tensorflow:Summary name Sum of outputs over time is illegal; using Sum_of_outputs_over_time instead.\n",
      "INFO:tensorflow:Summary name Average of outputs over time is illegal; using Average_of_outputs_over_time instead.\n"
     ]
    }
   ],
   "source": [
    "import tensorflow as tf\n",
    "\n",
    "graph = tf.Graph()\n",
    "\n",
    "with graph.as_default():\n",
    "    with tf.name_scope('variables'):\n",
    "        global_step = tf.Variable(0, dtype=tf.int32, trainable=False,\n",
    "                                  name='global_step')\n",
    "        total_output = tf.Variable(0.0, dtype=tf.float32, trainable=False,\n",
    "                                   name='total_output')\n",
    "\n",
    "    with tf.name_scope('transformation'):\n",
    "        with tf.name_scope('input'):\n",
    "            a = tf.placeholder(tf.float32, shape=[None],\n",
    "                               name='input_placeholder_a')\n",
    "        with tf.name_scope('intermediate_layer'):\n",
    "            b = tf.reduce_prod(a, name='product_b')\n",
    "            c = tf.reduce_sum(a, name='sum_c')\n",
    "\n",
    "        with tf.name_scope('output'):\n",
    "            output = tf.add(b, c, name='output')\n",
    "\n",
    "    with tf.name_scope('update'):\n",
    "        update_total = total_output.assign_add(output)\n",
    "        increment_step = global_step.assign_add(1)\n",
    "\n",
    "    with tf.name_scope('summaries'):\n",
    "        avg = tf.div(update_total, tf.cast(increment_step, tf.float32),\n",
    "                     name='average')\n",
    "        tf.summary.scalar(b'Output', output)#, name='output_summary')\n",
    "        tf.summary.scalar(b'Sum of outputs over time', update_total)#,name='total_summary')\n",
    "        tf.summary.scalar(b'Average of outputs over time', avg)#,name='average_summary')\n",
    "\n",
    "    with tf.name_scope('global_ops'):\n",
    "        init = tf.global_variables_initializer()\n",
    "        merged_summaries = tf.summary.merge_all()\n",
    "\n",
    "sess = tf.Session(graph=graph)\n",
    "writer = tf.summary.FileWriter('tf_base_3_graph', graph)\n",
    "\n",
    "sess.run(init)\n",
    "\n",
    "def run_graph(input_tensor):\n",
    "    feed_dict = {a: input_tensor}\n",
    "    _, step, summary = sess.run([output, increment_step, merged_summaries],\n",
    "                                feed_dict=feed_dict)\n",
    "    writer.add_summary(summary, global_step=step)\n",
    "\n",
    "run_graph([2, 8])\n",
    "run_graph([3, 1, 3, 3])\n",
    "run_graph([8])\n",
    "run_graph([1, 3, 4])\n",
    "run_graph([11, 4])\n",
    "run_graph([4, 1])\n",
    "run_graph([7, 3, 1])\n",
    "run_graph([6, 3])\n",
    "run_graph([0, 2])\n",
    "run_graph([4, 5, 6])\n",
    "\n",
    "writer.flush()\n",
    "writer.close()\n",
    "\n",
    "sess.close()\n",
    "\n",
    "# tensorboard --logdir='improved_graph'\n"
   ]
  },
  {
   "cell_type": "code",
   "execution_count": null,
   "metadata": {
    "collapsed": true
   },
   "outputs": [],
   "source": []
  }
 ],
 "metadata": {
  "kernelspec": {
   "display_name": "Python 2",
   "language": "python",
   "name": "python2"
  },
  "language_info": {
   "codemirror_mode": {
    "name": "ipython",
    "version": 2
   },
   "file_extension": ".py",
   "mimetype": "text/x-python",
   "name": "python",
   "nbconvert_exporter": "python",
   "pygments_lexer": "ipython2",
   "version": "2.7.10"
  }
 },
 "nbformat": 4,
 "nbformat_minor": 2
}
