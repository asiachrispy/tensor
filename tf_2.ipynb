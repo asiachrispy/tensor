{
 "cells": [
  {
   "cell_type": "markdown",
   "metadata": {},
   "source": [
    "## Tensor\n",
    "\n",
    "TensorFlow 程序使用 tensor 数据结构来代表所有的数据, 计算图中, 操作间传递的数据都是 tensor. 你可以 把 TensorFlow tensor 看作是一个 n 维的数组或列表. 一个 tensor 包含一个静态类型 rank, 和 一个 shape"
   ]
  },
  {
   "cell_type": "code",
   "execution_count": 1,
   "metadata": {
    "collapsed": false
   },
   "outputs": [
    {
     "name": "stdout",
     "output_type": "stream",
     "text": [
      "[-2. -1.]\n"
     ]
    }
   ],
   "source": [
    "import tensorflow as tf\n",
    "sess = tf.InteractiveSession()\n",
    "x = tf.Variable([1.0, 2.0])\n",
    "a = tf.constant([3.0, 3.0])\n",
    "\n",
    "# 使用初始化器 initializer op 的 run() 方法初始化 'x'\n",
    "x.initializer.run()\n",
    "\n",
    "# 增加一个减法 sub op, 从 'x' 减去 'a'. 运行减法 op, 输出结果\n",
    "sub = tf.sub(x, a)\n",
    "print sub.eval()\n",
    "\n",
    "#sess.close()"
   ]
  },
  {
   "cell_type": "code",
   "execution_count": 2,
   "metadata": {
    "collapsed": false
   },
   "outputs": [
    {
     "name": "stdout",
     "output_type": "stream",
     "text": [
      "[[ 12.]]\n"
     ]
    }
   ],
   "source": [
    "import tensorflow as tf\n",
    "\n",
    "# Create a Constant that produces a 1x2 matrix.\n",
    "matrix1 = tf.constant([[3., 3.]])\n",
    "\n",
    "# Create another Constant that produces a 2x1 matrix.\n",
    "matrix2 = tf.constant([[2.],[2.]])\n",
    "\n",
    "# Create a Matmul op that takes 'matrix1' and 'matrix2' as inputs.\n",
    "# The returned value, 'product', \n",
    "# represents the result of the matrix multiplication.\n",
    "product = tf.matmul(matrix1, matrix2)\n",
    "sess = tf.Session()\n",
    "result = sess.run(product)\n",
    "print(result) \n",
    "\n",
    "#sess.close()"
   ]
  },
  {
   "cell_type": "markdown",
   "metadata": {},
   "source": [
    "## 分布式集群\n",
    "To create a TensorFlow cluster, launch a TensorFlow server on each of the machines in the cluster.\n",
    "When you instantiate a Session in your client,\n",
    "you pass it the network location of one of the machines in the cluster:"
   ]
  },
  {
   "cell_type": "code",
   "execution_count": 3,
   "metadata": {
    "collapsed": false
   },
   "outputs": [
    {
     "name": "stdout",
     "output_type": "stream",
     "text": [
      "[[ 12.]]\n"
     ]
    }
   ],
   "source": [
    "import tensorflow as tf\n",
    "\n",
    "# with tf.Session(\"grpc://example.org:2222\") as sess:\n",
    "with tf.Session() as sess:\n",
    "    # with tf.device(\"/cpu:0\"): #cpu:1 gpu:0\n",
    "    matrix1 = tf.constant([[3., 3.]])\n",
    "    matrix2 = tf.constant([[2.],[2.]])\n",
    "    product = tf.matmul(matrix1, matrix2)\n",
    "    result = sess.run(product)\n",
    "    print(result)\n",
    "    sess.close()"
   ]
  },
  {
   "cell_type": "code",
   "execution_count": 4,
   "metadata": {
    "collapsed": false
   },
   "outputs": [
    {
     "name": "stdout",
     "output_type": "stream",
     "text": [
      "WARNING:tensorflow:From <ipython-input-4-ae09892e3f29>:11 in <module>.: initialize_all_variables (from tensorflow.python.ops.variables) is deprecated and will be removed after 2017-03-02.\n",
      "Instructions for updating:\n",
      "Use `tf.global_variables_initializer` instead.\n",
      "0\n",
      "1\n",
      "2\n",
      "3\n"
     ]
    }
   ],
   "source": [
    "import tensorflow as tf\n",
    "\n",
    "stat = tf.Variable(0,name=\"ct\")\n",
    "\n",
    "one = tf.constant(1)\n",
    "\n",
    "nv = tf.add(stat,one)   # lazy op\n",
    "\n",
    "up = tf.assign(stat,nv) # lazy op\n",
    "\n",
    "init_op = tf.initialize_all_variables() # lazy op\n",
    "\n",
    "with tf.Session() as sess:\n",
    "    sess.run(init_op)\n",
    "    print sess.run(stat)\n",
    "    for i in range(3):\n",
    "        sess.run(up)\n",
    "        print  sess.run(stat)"
   ]
  },
  {
   "cell_type": "markdown",
   "metadata": {},
   "source": [
    "## Fetches: 获取多个 tensor"
   ]
  },
  {
   "cell_type": "code",
   "execution_count": 5,
   "metadata": {
    "collapsed": false
   },
   "outputs": [
    {
     "name": "stdout",
     "output_type": "stream",
     "text": [
      "[21.0, 7.0]\n"
     ]
    }
   ],
   "source": [
    "import tensorflow as tf\n",
    "\n",
    "input1 = tf.constant(3.0)\n",
    "input2 = tf.constant(2.0)\n",
    "input3 = tf.constant(5.0)\n",
    "intermed = tf.add(input2, input3)\n",
    "mul = tf.mul(input1, intermed)\n",
    "with tf.Session() as sess:\n",
    "    # result = sess.run(mul) # 获取 1个tensor\n",
    "    result = sess.run([mul, intermed]) #获取 多个 tensor\n",
    "    print result"
   ]
  },
  {
   "cell_type": "markdown",
   "metadata": {},
   "source": [
    "### Feed\n",
    "feed 使用一个 tensor 值临时替换一个操作的输出结果. 可以提供 feed 数据作为 run() 调用的参数.  \n",
    "feed 只在调用它的方法内有效, 方法结束, feed 就会消失."
   ]
  },
  {
   "cell_type": "code",
   "execution_count": 6,
   "metadata": {
    "collapsed": false
   },
   "outputs": [
    {
     "name": "stdout",
     "output_type": "stream",
     "text": [
      "[array([ 14.], dtype=float32)]\n"
     ]
    }
   ],
   "source": [
    "inp1 = tf.placeholder(tf.float32)\n",
    "inp2 = tf.placeholder(tf.float32) # dep tf.types.float32\n",
    "\n",
    "output = tf.mul(inp1, inp2)\n",
    "with tf.Session() as sess:\n",
    "    print sess.run([output], feed_dict={inp1:[7.], inp2:[2.]})"
   ]
  },
  {
   "cell_type": "code",
   "execution_count": 7,
   "metadata": {
    "collapsed": false
   },
   "outputs": [
    {
     "name": "stdout",
     "output_type": "stream",
     "text": [
      "Extracting /Users/chris/gitspace/tensor/data/MNIST_data/train-images-idx3-ubyte.gz\n",
      "Extracting /Users/chris/gitspace/tensor/data/MNIST_data/train-labels-idx1-ubyte.gz\n",
      "Extracting /Users/chris/gitspace/tensor/data/MNIST_data/t10k-images-idx3-ubyte.gz\n",
      "Extracting /Users/chris/gitspace/tensor/data/MNIST_data/t10k-labels-idx1-ubyte.gz\n",
      "0.9187\n"
     ]
    }
   ],
   "source": [
    "\"\"\"\n",
    "https://www.tensorflow.org/tutorials/mnist/beginners/\n",
    "\"\"\"\n",
    "import tensorflow as tf\n",
    "\n",
    "from tensorflow.examples.tutorials.mnist import input_data\n",
    "mnist = input_data.read_data_sets('/Users/chris/gitspace/tensor/data/MNIST_data/', one_hot=True)\n",
    "\n",
    "x = tf.placeholder(tf.float32, [None, 784]) #None means that a dimension can be of any length\n",
    "\n",
    "# A Variable is a modifiable tensor that lives in TensorFlow's graph of interacting operations.\n",
    "# It can be used and even modified by the computation. For machine learning applications, one generally has the model parameters be Variables.\n",
    "W = tf.Variable(tf.zeros([784, 10]))  \n",
    "b = tf.Variable(tf.zeros([10]))\n",
    "\n",
    "# y is our predicted probability distribution,\n",
    "y = tf.nn.softmax(tf.matmul(x, W) + b)\n",
    "\n",
    "# y′ is the true distribution (the one-hot vector with the digit labels)\n",
    "y_ = tf.placeholder(tf.float32, [None, 10])\n",
    "\n",
    "# Then we can implement the cross-entropy function, −∑y′log⁡(y):\n",
    "cross_entropy = tf.reduce_mean(-tf.reduce_sum(y_ * tf.log(y), reduction_indices=[1]))\n",
    "\n",
    "\n",
    "train_step = tf.train.GradientDescentOptimizer(0.3).minimize(cross_entropy)\n",
    "\n",
    "\n",
    "init = tf.global_variables_initializer()\n",
    "sess = tf.Session()\n",
    "sess.run(init)\n",
    "\n",
    "for i in range(1000):\n",
    "    batch_xs, batch_ys = mnist.train.next_batch(200)\n",
    "    sess.run(train_step, feed_dict={x: batch_xs, y_: batch_ys})\n",
    "    \n",
    "# argmax给出某个tensor对象在某一维上的最大值的索引\n",
    "# tf.argmax(y,1) 模型对于任一输入x预测到的标签值\n",
    "# tf.argmax(y_,1) 正确的标签\n",
    "correct_prediction = tf.equal(tf.argmax(y,1), tf.argmax(y_,1)) \n",
    "accuracy = tf.reduce_mean(tf.cast(correct_prediction, tf.float32))\n",
    "print(sess.run(accuracy, feed_dict={x: mnist.test.images, y_: mnist.test.labels}))\n",
    "\n",
    "# next_batch(100) 0.5  0.9184 0.3 0.919\n",
    "# next_batch(200) 0.5 0.9204 0.3 0.9184"
   ]
  },
  {
   "cell_type": "code",
   "execution_count": 8,
   "metadata": {
    "collapsed": false
   },
   "outputs": [
    {
     "name": "stdout",
     "output_type": "stream",
     "text": [
      "Extracting /Users/chris/gitspace/tensor/data/MNIST_data/train-images-idx3-ubyte.gz\n",
      "Extracting /Users/chris/gitspace/tensor/data/MNIST_data/train-labels-idx1-ubyte.gz\n",
      "Extracting /Users/chris/gitspace/tensor/data/MNIST_data/t10k-images-idx3-ubyte.gz\n",
      "Extracting /Users/chris/gitspace/tensor/data/MNIST_data/t10k-labels-idx1-ubyte.gz\n",
      "0.9204\n"
     ]
    },
    {
     "ename": "SystemExit",
     "evalue": "",
     "output_type": "error",
     "traceback": [
      "An exception has occurred, use %tb to see the full traceback.\n",
      "\u001b[0;31mSystemExit\u001b[0m\n"
     ]
    },
    {
     "name": "stderr",
     "output_type": "stream",
     "text": [
      "/Users/chris/.tensor/lib/python2.7/site-packages/IPython/core/interactiveshell.py:2889: UserWarning: To exit: use 'exit', 'quit', or Ctrl-D.\n",
      "  warn(\"To exit: use 'exit', 'quit', or Ctrl-D.\", stacklevel=1)\n"
     ]
    }
   ],
   "source": [
    "##\n",
    "\"\"\"A very simple MNIST classifier.\n",
    "\n",
    "See extensive documentation at\n",
    "http://tensorflow.org/tutorials/mnist/beginners/index.md\n",
    "\"\"\"\n",
    "from __future__ import absolute_import\n",
    "from __future__ import division\n",
    "from __future__ import print_function\n",
    "\n",
    "import argparse\n",
    "import sys\n",
    "\n",
    "from tensorflow.examples.tutorials.mnist import input_data\n",
    "\n",
    "import tensorflow as tf\n",
    "\n",
    "FLAGS = None\n",
    "\n",
    "\n",
    "def main(_):\n",
    "    # Import data\n",
    "    mnist = input_data.read_data_sets(FLAGS.data_dir, one_hot=True)\n",
    "\n",
    "    # Create the model\n",
    "    x = tf.placeholder(tf.float32, [None, 784])\n",
    "    W = tf.Variable(tf.zeros([784, 10]))\n",
    "    b = tf.Variable(tf.zeros([10]))\n",
    "    y = tf.matmul(x, W) + b\n",
    "\n",
    "    # Define loss and optimizer\n",
    "    y_ = tf.placeholder(tf.float32, [None, 10])\n",
    "\n",
    "    # The raw formulation of cross-entropy,\n",
    "    #\n",
    "    #   tf.reduce_mean(-tf.reduce_sum(y_ * tf.log(tf.nn.softmax(y)),\n",
    "    #                                 reduction_indices=[1]))\n",
    "    #\n",
    "    # can be numerically unstable.\n",
    "    #\n",
    "    # So here we use tf.nn.softmax_cross_entropy_with_logits on the raw\n",
    "    # outputs of 'y', and then average across the batch.\n",
    "    cross_entropy = tf.reduce_mean(tf.nn.softmax_cross_entropy_with_logits(y, y_))\n",
    "    train_step = tf.train.GradientDescentOptimizer(0.5).minimize(cross_entropy)\n",
    "\n",
    "    sess = tf.InteractiveSession()\n",
    "    tf.global_variables_initializer().run()\n",
    "    # Train\n",
    "    for _ in range(1000):\n",
    "        batch_xs, batch_ys = mnist.train.next_batch(100)\n",
    "        sess.run(train_step, feed_dict={x: batch_xs, y_: batch_ys})\n",
    "\n",
    "    # Test trained model\n",
    "    correct_prediction = tf.equal(tf.argmax(y, 1), tf.argmax(y_, 1))\n",
    "    accuracy = tf.reduce_mean(tf.cast(correct_prediction, tf.float32))\n",
    "    print(sess.run(accuracy, feed_dict={x: mnist.test.images,y_: mnist.test.labels}))\n",
    "\n",
    "if __name__ == '__main__':\n",
    "    parser = argparse.ArgumentParser()\n",
    "    parser.add_argument('--data_dir', type=str, default='/Users/chris/gitspace/tensor/data/MNIST_data/',\n",
    "                      help='Directory for storing input data')\n",
    "    FLAGS, unparsed = parser.parse_known_args()\n",
    "    tf.app.run(main=main, argv=[sys.argv[0]] + unparsed)\n"
   ]
  },
  {
   "cell_type": "code",
   "execution_count": null,
   "metadata": {
    "collapsed": true
   },
   "outputs": [],
   "source": []
  }
 ],
 "metadata": {
  "kernelspec": {
   "display_name": "Python 2",
   "language": "python",
   "name": "python2"
  },
  "language_info": {
   "codemirror_mode": {
    "name": "ipython",
    "version": 2
   },
   "file_extension": ".py",
   "mimetype": "text/x-python",
   "name": "python",
   "nbconvert_exporter": "python",
   "pygments_lexer": "ipython2",
   "version": "2.7.10"
  }
 },
 "nbformat": 4,
 "nbformat_minor": 2
}
