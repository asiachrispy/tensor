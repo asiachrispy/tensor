{
 "cells": [
  {
   "cell_type": "code",
   "execution_count": 1,
   "metadata": {},
   "outputs": [
    {
     "name": "stderr",
     "output_type": "stream",
     "text": [
      "Using TensorFlow backend.\n"
     ]
    }
   ],
   "source": [
    "from __future__ import print_function\n",
    "import numpy as np\n",
    "from keras.datasets import mnist\n",
    "from keras.models import Sequential\n",
    "from keras.layers.core import Dense, Dropout, Activation\n",
    "from keras.optimizers import Adam\n",
    "from keras.utils import np_utils\n",
    "\n",
    "import matplotlib.pyplot as plt\n",
    "\n",
    "np.random.seed(1671)  # for reproducibility"
   ]
  },
  {
   "cell_type": "code",
   "execution_count": 2,
   "metadata": {
    "collapsed": true
   },
   "outputs": [],
   "source": [
    "# network and training\n",
    "NB_EPOCH = 20\n",
    "BATCH_SIZE = 128\n",
    "VERBOSE = 1\n",
    "NB_CLASSES = 10   # number of outputs = number of digits\n",
    "OPTIMIZER = Adam() # optimizer, explainedin this chapter\n",
    "N_HIDDEN = 128\n",
    "VALIDATION_SPLIT=0.2 # how much TRAIN is reserved for VALIDATION\n",
    "DROPOUT = 0.3"
   ]
  },
  {
   "cell_type": "code",
   "execution_count": 3,
   "metadata": {
    "collapsed": true
   },
   "outputs": [],
   "source": [
    "# data: shuffled and split between train and test sets\n",
    "(X_train, y_train), (X_test, y_test) = mnist.load_data()"
   ]
  },
  {
   "cell_type": "code",
   "execution_count": 4,
   "metadata": {
    "collapsed": true
   },
   "outputs": [],
   "source": [
    "#X_train is 60000 rows of 28x28 values --> reshaped in 60000 x 784\n",
    "RESHAPED = 784\n",
    "#\n",
    "X_train = X_train.reshape(60000, RESHAPED)\n",
    "X_test = X_test.reshape(10000, RESHAPED)\n",
    "X_train = X_train.astype('float32')\n",
    "X_test = X_test.astype('float32')"
   ]
  },
  {
   "cell_type": "code",
   "execution_count": 5,
   "metadata": {},
   "outputs": [
    {
     "name": "stdout",
     "output_type": "stream",
     "text": [
      "60000 train samples\n",
      "10000 test samples\n"
     ]
    }
   ],
   "source": [
    "# normalize \n",
    "X_train /= 255\n",
    "X_test /= 255\n",
    "print(X_train.shape[0], 'train samples')\n",
    "print(X_test.shape[0], 'test samples')"
   ]
  },
  {
   "cell_type": "code",
   "execution_count": 6,
   "metadata": {
    "collapsed": true
   },
   "outputs": [],
   "source": [
    "# convert class vectors to binary class matrices\n",
    "Y_train = np_utils.to_categorical(y_train, NB_CLASSES)\n",
    "Y_test = np_utils.to_categorical(y_test, NB_CLASSES)"
   ]
  },
  {
   "cell_type": "code",
   "execution_count": 7,
   "metadata": {},
   "outputs": [
    {
     "name": "stdout",
     "output_type": "stream",
     "text": [
      "_________________________________________________________________\n",
      "Layer (type)                 Output Shape              Param #   \n",
      "=================================================================\n",
      "dense_1 (Dense)              (None, 128)               100480    \n",
      "_________________________________________________________________\n",
      "activation_1 (Activation)    (None, 128)               0         \n",
      "_________________________________________________________________\n",
      "dropout_1 (Dropout)          (None, 128)               0         \n",
      "_________________________________________________________________\n",
      "dense_2 (Dense)              (None, 128)               16512     \n",
      "_________________________________________________________________\n",
      "activation_2 (Activation)    (None, 128)               0         \n",
      "_________________________________________________________________\n",
      "dropout_2 (Dropout)          (None, 128)               0         \n",
      "_________________________________________________________________\n",
      "dense_3 (Dense)              (None, 10)                1290      \n",
      "_________________________________________________________________\n",
      "activation_3 (Activation)    (None, 10)                0         \n",
      "=================================================================\n",
      "Total params: 118,282\n",
      "Trainable params: 118,282\n",
      "Non-trainable params: 0\n",
      "_________________________________________________________________\n"
     ]
    }
   ],
   "source": [
    "# M_HIDDEN hidden layers\n",
    "# 10 outputs\n",
    "# final stage is softmax\n",
    "\n",
    "model = Sequential()\n",
    "model.add(Dense(N_HIDDEN, input_shape=(RESHAPED,)))\n",
    "model.add(Activation('relu'))\n",
    "model.add(Dropout(DROPOUT))\n",
    "model.add(Dense(N_HIDDEN))\n",
    "model.add(Activation('relu'))\n",
    "model.add(Dropout(DROPOUT))\n",
    "model.add(Dense(NB_CLASSES))\n",
    "model.add(Activation('softmax'))\n",
    "model.summary()"
   ]
  },
  {
   "cell_type": "code",
   "execution_count": 8,
   "metadata": {
    "collapsed": true
   },
   "outputs": [],
   "source": [
    "model.compile(loss='categorical_crossentropy',\n",
    "              optimizer=OPTIMIZER,\n",
    "              metrics=['accuracy'])"
   ]
  },
  {
   "cell_type": "code",
   "execution_count": 9,
   "metadata": {},
   "outputs": [
    {
     "name": "stdout",
     "output_type": "stream",
     "text": [
      "Train on 48000 samples, validate on 12000 samples\n",
      "Epoch 1/20\n",
      "48000/48000 [==============================] - 4s - loss: 0.5191 - acc: 0.8435 - val_loss: 0.1882 - val_acc: 0.9434\n",
      "Epoch 2/20\n",
      "48000/48000 [==============================] - 4s - loss: 0.2341 - acc: 0.9299 - val_loss: 0.1412 - val_acc: 0.9578\n",
      "Epoch 3/20\n",
      "48000/48000 [==============================] - 4s - loss: 0.1825 - acc: 0.9454 - val_loss: 0.1165 - val_acc: 0.9637\n",
      "Epoch 4/20\n",
      "48000/48000 [==============================] - 3s - loss: 0.1539 - acc: 0.9535 - val_loss: 0.1106 - val_acc: 0.9673\n",
      "Epoch 5/20\n",
      "48000/48000 [==============================] - 3s - loss: 0.1324 - acc: 0.9595 - val_loss: 0.0999 - val_acc: 0.9707\n",
      "Epoch 6/20\n",
      "48000/48000 [==============================] - 2s - loss: 0.1204 - acc: 0.9624 - val_loss: 0.0884 - val_acc: 0.9738\n",
      "Epoch 7/20\n",
      "48000/48000 [==============================] - 2s - loss: 0.1075 - acc: 0.9667 - val_loss: 0.0894 - val_acc: 0.9728\n",
      "Epoch 8/20\n",
      "48000/48000 [==============================] - 2s - loss: 0.0996 - acc: 0.9695 - val_loss: 0.0896 - val_acc: 0.9741\n",
      "Epoch 9/20\n",
      "48000/48000 [==============================] - 2s - loss: 0.0899 - acc: 0.9720 - val_loss: 0.0828 - val_acc: 0.9739\n",
      "Epoch 10/20\n",
      "48000/48000 [==============================] - 2s - loss: 0.0867 - acc: 0.9732 - val_loss: 0.0804 - val_acc: 0.9754\n",
      "Epoch 11/20\n",
      "48000/48000 [==============================] - 2s - loss: 0.0807 - acc: 0.9735 - val_loss: 0.0811 - val_acc: 0.9761\n",
      "Epoch 12/20\n",
      "48000/48000 [==============================] - 2s - loss: 0.0773 - acc: 0.9748 - val_loss: 0.0843 - val_acc: 0.9772\n",
      "Epoch 13/20\n",
      "48000/48000 [==============================] - 2s - loss: 0.0740 - acc: 0.9767 - val_loss: 0.0841 - val_acc: 0.9745\n",
      "Epoch 14/20\n",
      "48000/48000 [==============================] - 2s - loss: 0.0685 - acc: 0.9782 - val_loss: 0.0853 - val_acc: 0.9761\n",
      "Epoch 15/20\n",
      "48000/48000 [==============================] - 2s - loss: 0.0689 - acc: 0.9774 - val_loss: 0.0837 - val_acc: 0.9771\n",
      "Epoch 16/20\n",
      "48000/48000 [==============================] - 2s - loss: 0.0637 - acc: 0.9793 - val_loss: 0.0809 - val_acc: 0.9776\n",
      "Epoch 17/20\n",
      "48000/48000 [==============================] - 2s - loss: 0.0594 - acc: 0.9808 - val_loss: 0.0796 - val_acc: 0.9782\n",
      "Epoch 18/20\n",
      "48000/48000 [==============================] - 2s - loss: 0.0596 - acc: 0.9801 - val_loss: 0.0805 - val_acc: 0.9772\n",
      "Epoch 19/20\n",
      "48000/48000 [==============================] - 2s - loss: 0.0584 - acc: 0.9816 - val_loss: 0.0840 - val_acc: 0.9767\n",
      "Epoch 20/20\n",
      "48000/48000 [==============================] - 2s - loss: 0.0565 - acc: 0.9813 - val_loss: 0.0809 - val_acc: 0.9777\n"
     ]
    }
   ],
   "source": [
    "history = model.fit(X_train, Y_train,\n",
    "                    batch_size=BATCH_SIZE, epochs=NB_EPOCH,\n",
    "                    verbose=VERBOSE, validation_split=VALIDATION_SPLIT)"
   ]
  },
  {
   "cell_type": "code",
   "execution_count": 10,
   "metadata": {},
   "outputs": [
    {
     "name": "stdout",
     "output_type": "stream",
     "text": [
      " 9056/10000 [==========================>...] - ETA: 0s\n",
      "Test score: 0.0766451215627\n",
      "Test accuracy: 0.9784\n"
     ]
    }
   ],
   "source": [
    "score = model.evaluate(X_test, Y_test, verbose=VERBOSE)\n",
    "print(\"\\nTest score:\", score[0])\n",
    "print('Test accuracy:', score[1])"
   ]
  },
  {
   "cell_type": "code",
   "execution_count": 11,
   "metadata": {},
   "outputs": [
    {
     "name": "stdout",
     "output_type": "stream",
     "text": [
      "dict_keys(['val_loss', 'val_acc', 'loss', 'acc'])\n"
     ]
    },
    {
     "data": {
      "image/png": "[encoded data removed]",
      "text/plain": [
       "<matplotlib.figure.Figure at 0x134903ba8>"
      ]
     },
     "metadata": {},
     "output_type": "display_data"
    }
   ],
   "source": [
    "# list all data in history\n",
    "print(history.history.keys())\n",
    "# summarize history for accuracy\n",
    "plt.plot(history.history['acc'])\n",
    "plt.plot(history.history['val_acc'])\n",
    "plt.title('model accuracy')\n",
    "plt.ylabel('accuracy')\n",
    "plt.xlabel('epoch')\n",
    "plt.legend(['train', 'test'], loc='upper left')\n",
    "plt.show()"
   ]
  },
  {
   "cell_type": "code",
   "execution_count": 12,
   "metadata": {},
   "outputs": [
    {
     "data": {
      "image/png": "[encoded data removed]",
      "text/plain": [
       "<matplotlib.figure.Figure at 0x1349036a0>"
      ]
     },
     "metadata": {},
     "output_type": "display_data"
    }
   ],
   "source": [
    "# summarize history for loss\n",
    "plt.plot(history.history['loss'])\n",
    "plt.plot(history.history['val_loss'])\n",
    "plt.title('model loss')\n",
    "plt.ylabel('loss')\n",
    "plt.xlabel('epoch')\n",
    "plt.legend(['train', 'test'], loc='upper left')\n",
    "plt.show()"
   ]
  },
  {
   "cell_type": "code",
   "execution_count": null,
   "metadata": {
    "collapsed": true
   },
   "outputs": [],
   "source": []
  }
 ],
 "metadata": {
  "kernelspec": {
   "display_name": "Python 3",
   "language": "python",
   "name": "python3"
  },
  "language_info": {
   "codemirror_mode": {
    "name": "ipython",
    "version": 3
   },
   "file_extension": ".py",
   "mimetype": "text/x-python",
   "name": "python",
   "nbconvert_exporter": "python",
   "pygments_lexer": "ipython3",
   "version": "3.6.1"
  }
 },
 "nbformat": 4,
 "nbformat_minor": 2
}
